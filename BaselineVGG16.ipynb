{
  "nbformat": 4,
  "nbformat_minor": 0,
  "metadata": {
    "colab": {
      "name": "BaselineVGG16.ipynb",
      "provenance": [],
      "collapsed_sections": [],
      "authorship_tag": "ABX9TyN1t0hReE1ncU5a4P3VPrcr",
      "include_colab_link": true
    },
    "kernelspec": {
      "name": "python3",
      "display_name": "Python 3"
    },
    "accelerator": "GPU"
  },
  "cells": [
    {
      "cell_type": "markdown",
      "metadata": {
        "id": "view-in-github",
        "colab_type": "text"
      },
      "source": [
        "<a href=\"https://colab.research.google.com/github/FawwazMayda/BangkitPlantPathology/blob/master/BaselineVGG16.ipynb\" target=\"_parent\"><img src=\"https://colab.research.google.com/assets/colab-badge.svg\" alt=\"Open In Colab\"/></a>"
      ]
    },
    {
      "cell_type": "code",
      "metadata": {
        "id": "4oKdN-gARsZ2",
        "colab_type": "code",
        "outputId": "63858196-29b0-489a-dbf1-b6f6b2bb9451",
        "colab": {
          "base_uri": "https://localhost:8080/",
          "height": 462
        }
      },
      "source": [
        "!pip uninstall -y kaggle\n",
        "!pip install --upgrade pip\n",
        "!pip install kaggle==1.5.6\n",
        "!kaggle -v"
      ],
      "execution_count": 30,
      "outputs": [
        {
          "output_type": "stream",
          "text": [
            "Found existing installation: kaggle 1.5.6\n",
            "Uninstalling kaggle-1.5.6:\n",
            "  Successfully uninstalled kaggle-1.5.6\n",
            "Requirement already up-to-date: pip in /usr/local/lib/python3.6/dist-packages (20.0.2)\n",
            "Processing /root/.cache/pip/wheels/01/3e/ff/77407ebac3ef71a79b9166a8382aecf88415a0bcbe3c095a01/kaggle-1.5.6-py3-none-any.whl\n",
            "Requirement already satisfied: python-dateutil in /usr/local/lib/python3.6/dist-packages (from kaggle==1.5.6) (2.8.1)\n",
            "Requirement already satisfied: six>=1.10 in /usr/local/lib/python3.6/dist-packages (from kaggle==1.5.6) (1.12.0)\n",
            "Requirement already satisfied: python-slugify in /usr/local/lib/python3.6/dist-packages (from kaggle==1.5.6) (4.0.0)\n",
            "Requirement already satisfied: requests in /usr/local/lib/python3.6/dist-packages (from kaggle==1.5.6) (2.21.0)\n",
            "Requirement already satisfied: urllib3<1.25,>=1.21.1 in /usr/local/lib/python3.6/dist-packages (from kaggle==1.5.6) (1.24.3)\n",
            "Requirement already satisfied: tqdm in /usr/local/lib/python3.6/dist-packages (from kaggle==1.5.6) (4.38.0)\n",
            "Requirement already satisfied: certifi in /usr/local/lib/python3.6/dist-packages (from kaggle==1.5.6) (2019.11.28)\n",
            "Requirement already satisfied: text-unidecode>=1.3 in /usr/local/lib/python3.6/dist-packages (from python-slugify->kaggle==1.5.6) (1.3)\n",
            "Requirement already satisfied: chardet<3.1.0,>=3.0.2 in /usr/local/lib/python3.6/dist-packages (from requests->kaggle==1.5.6) (3.0.4)\n",
            "Requirement already satisfied: idna<2.9,>=2.5 in /usr/local/lib/python3.6/dist-packages (from requests->kaggle==1.5.6) (2.8)\n",
            "Installing collected packages: kaggle\n",
            "Successfully installed kaggle-1.5.6\n",
            "Traceback (most recent call last):\n",
            "  File \"/usr/local/bin/kaggle\", line 5, in <module>\n",
            "    from kaggle.cli import main\n",
            "  File \"/usr/local/lib/python3.6/dist-packages/kaggle/__init__.py\", line 23, in <module>\n",
            "    api.authenticate()\n",
            "  File \"/usr/local/lib/python3.6/dist-packages/kaggle/api/kaggle_api_extended.py\", line 149, in authenticate\n",
            "    self.config_file, self.config_dir))\n",
            "OSError: Could not find kaggle.json. Make sure it's located in /root/.kaggle. Or use the environment method.\n"
          ],
          "name": "stdout"
        }
      ]
    },
    {
      "cell_type": "code",
      "metadata": {
        "id": "GgdrHnf_SH6g",
        "colab_type": "code",
        "colab": {}
      },
      "source": [
        "import os\n",
        "os.environ['KAGGLE_USERNAME']=\"medias\"\n",
        "os.environ['KAGGLE_KEY']=\"2751bb484f8f6ddff17b7a812d26367a\""
      ],
      "execution_count": 0,
      "outputs": []
    },
    {
      "cell_type": "code",
      "metadata": {
        "id": "bV4N9ySfSL8r",
        "colab_type": "code",
        "outputId": "0dc6108e-cacf-40e0-bee2-5e0237290f2e",
        "colab": {
          "base_uri": "https://localhost:8080/",
          "height": 173
        }
      },
      "source": [
        "!kaggle competitions download -c plant-pathology-2020-fgvc7"
      ],
      "execution_count": 0,
      "outputs": [
        {
          "output_type": "stream",
          "text": [
            "Traceback (most recent call last):\n",
            "  File \"/usr/local/bin/kaggle\", line 5, in <module>\n",
            "    from kaggle.cli import main\n",
            "  File \"/usr/local/lib/python3.6/dist-packages/kaggle/__init__.py\", line 23, in <module>\n",
            "    api.authenticate()\n",
            "  File \"/usr/local/lib/python3.6/dist-packages/kaggle/api/kaggle_api_extended.py\", line 149, in authenticate\n",
            "    self.config_file, self.config_dir))\n",
            "OSError: Could not find kaggle.json. Make sure it's located in /root/.kaggle. Or use the environment method.\n"
          ],
          "name": "stdout"
        }
      ]
    },
    {
      "cell_type": "code",
      "metadata": {
        "id": "SHfQ7EtXUTLe",
        "colab_type": "code",
        "outputId": "9e60757d-c815-4339-8886-81690d392a44",
        "colab": {
          "base_uri": "https://localhost:8080/",
          "height": 98
        }
      },
      "source": [
        "!unzip plant-pathology-2020-fgvc7.zip"
      ],
      "execution_count": 0,
      "outputs": [
        {
          "output_type": "stream",
          "text": [
            "Archive:  plant-pathology-2020-fgvc7.zip\n",
            "replace images/Test_0.jpg? [y]es, [n]o, [A]ll, [N]one, [r]ename: n\n",
            "replace images/Test_1.jpg? [y]es, [n]o, [A]ll, [N]one, [r]ename: "
          ],
          "name": "stdout"
        }
      ]
    },
    {
      "cell_type": "code",
      "metadata": {
        "id": "yoltRHfQSz1W",
        "colab_type": "code",
        "colab": {}
      },
      "source": [
        "from tqdm import tqdm\n",
        "import cv2\n",
        "import pandas as pd\n",
        "import numpy as np\n",
        "import os\n",
        "import matplotlib.pyplot as plt"
      ],
      "execution_count": 0,
      "outputs": []
    },
    {
      "cell_type": "code",
      "metadata": {
        "id": "n2fbcRMrUkST",
        "colab_type": "code",
        "colab": {}
      },
      "source": [
        "submission = pd.read_csv(\"sample_submission.csv\")\n",
        "train = pd.read_csv(\"train.csv\")\n",
        "test = pd.read_csv(\"test.csv\")"
      ],
      "execution_count": 0,
      "outputs": []
    },
    {
      "cell_type": "code",
      "metadata": {
        "id": "5_SrxisaVoQO",
        "colab_type": "code",
        "colab": {}
      },
      "source": [
        "train.head()"
      ],
      "execution_count": 0,
      "outputs": []
    },
    {
      "cell_type": "code",
      "metadata": {
        "id": "lnJLYppZVo_W",
        "colab_type": "code",
        "colab": {}
      },
      "source": [
        "test.sample()"
      ],
      "execution_count": 0,
      "outputs": []
    },
    {
      "cell_type": "code",
      "metadata": {
        "id": "gojpBNZZVy4J",
        "colab_type": "code",
        "colab": {}
      },
      "source": [
        "submission.sample(5)"
      ],
      "execution_count": 0,
      "outputs": []
    },
    {
      "cell_type": "code",
      "metadata": {
        "id": "Vg5TClgYV9Rh",
        "colab_type": "code",
        "colab": {}
      },
      "source": [
        "!ls"
      ],
      "execution_count": 0,
      "outputs": []
    },
    {
      "cell_type": "code",
      "metadata": {
        "id": "ew-UAa9pV0bh",
        "colab_type": "code",
        "colab": {
          "base_uri": "https://localhost:8080/",
          "height": 34
        },
        "outputId": "d6b0ee7d-94b5-4ff3-b524-1d1845d2cfd7"
      },
      "source": [
        "train_img = []\n",
        "path = \"./images\"\n",
        "for im in tqdm(train['image_id']):\n",
        "  im = im+\".jpg\"\n",
        "  fnpath = os.path.join(path,im)\n",
        "  img = cv2.imread(fnpath)\n",
        "  img = cv2.resize(img,(224,224))\n",
        "  img = img.astype('float32')\n",
        "  train_img.append(img)\n"
      ],
      "execution_count": 12,
      "outputs": [
        {
          "output_type": "stream",
          "text": [
            "100%|██████████| 1821/1821 [00:59<00:00, 30.74it/s]\n"
          ],
          "name": "stderr"
        }
      ]
    },
    {
      "cell_type": "code",
      "metadata": {
        "id": "XjVY6N_mW3zf",
        "colab_type": "code",
        "colab": {
          "base_uri": "https://localhost:8080/",
          "height": 34
        },
        "outputId": "1dc0db97-1369-4062-bcea-c2ebe9313e57"
      },
      "source": [
        "test_img = []\n",
        "path = \"./images\"\n",
        "for im in tqdm(test['image_id']):\n",
        "  im = im+\".jpg\"\n",
        "  fnpath = os.path.join(path,im)\n",
        "  img = cv2.imread(fnpath)\n",
        "  img = cv2.resize(img,(224,224))\n",
        "  img = img.astype('float32')\n",
        "  test_img.append(img)"
      ],
      "execution_count": 13,
      "outputs": [
        {
          "output_type": "stream",
          "text": [
            "100%|██████████| 1821/1821 [00:59<00:00, 30.40it/s]\n"
          ],
          "name": "stderr"
        }
      ]
    },
    {
      "cell_type": "code",
      "metadata": {
        "id": "68RU9BdcWf3n",
        "colab_type": "code",
        "colab": {}
      },
      "source": [
        "train_label = train.iloc[:,1:]\n",
        "train_img = np.array(train_img)\n",
        "test_img = np.array(test_img)"
      ],
      "execution_count": 0,
      "outputs": []
    },
    {
      "cell_type": "code",
      "metadata": {
        "id": "iUqlrYnYXrnF",
        "colab_type": "code",
        "colab": {
          "base_uri": "https://localhost:8080/",
          "height": 51
        },
        "outputId": "51eb2c0d-bc0b-430a-8abb-97e6e19e7cd7"
      },
      "source": [
        "print(train_img.shape)\n",
        "print(train_label.shape)"
      ],
      "execution_count": 15,
      "outputs": [
        {
          "output_type": "stream",
          "text": [
            "(1821, 224, 224, 3)\n",
            "(1821, 4)\n"
          ],
          "name": "stdout"
        }
      ]
    },
    {
      "cell_type": "code",
      "metadata": {
        "id": "rmuh3_DrXuCD",
        "colab_type": "code",
        "colab": {
          "base_uri": "https://localhost:8080/",
          "height": 34
        },
        "outputId": "ff83942c-bab0-41b4-96ce-e04756c9584e"
      },
      "source": [
        "test_img.shape"
      ],
      "execution_count": 16,
      "outputs": [
        {
          "output_type": "execute_result",
          "data": {
            "text/plain": [
              "(1821, 224, 224, 3)"
            ]
          },
          "metadata": {
            "tags": []
          },
          "execution_count": 16
        }
      ]
    },
    {
      "cell_type": "markdown",
      "metadata": {
        "id": "G9WfS1CsYCCP",
        "colab_type": "text"
      },
      "source": [
        "Creating Data generator"
      ]
    },
    {
      "cell_type": "code",
      "metadata": {
        "id": "wk4MeTkOX9Qb",
        "colab_type": "code",
        "colab": {}
      },
      "source": [
        "import tensorflow as tf"
      ],
      "execution_count": 0,
      "outputs": []
    },
    {
      "cell_type": "code",
      "metadata": {
        "id": "c2FU_qMkYF6Z",
        "colab_type": "code",
        "colab": {}
      },
      "source": [
        "datagen = tf.keras.preprocessing.image.ImageDataGenerator(\n",
        "        preprocessing_function = tf.keras.applications.vgg16.preprocess_input,\n",
        "        rotation_range=10,  # randomly rotate images in the range (degrees, 0 to 180)\n",
        "        zoom_range = 0.1, # Randomly zoom image \n",
        "        width_shift_range=0.2,  # randomly shift images horizontally (fraction of total width)\n",
        "        height_shift_range=0.2,  # randomly shift images vertically (fraction of total height)\n",
        "        horizontal_flip=True,  # randomly flip images\n",
        "        )\n",
        "        \n",
        "datagen.fit(train_img)"
      ],
      "execution_count": 0,
      "outputs": []
    },
    {
      "cell_type": "code",
      "metadata": {
        "id": "wajCWeQ7YTv2",
        "colab_type": "code",
        "colab": {
          "base_uri": "https://localhost:8080/",
          "height": 734
        },
        "outputId": "5481a20e-e2d9-49ff-dcf5-cf0568e4a308"
      },
      "source": [
        "base = tf.keras.applications.vgg16.VGG16(include_top=False, weights='imagenet',input_shape=(224,224,3),pooling='avg')\n",
        "base.trainable = False\n",
        "model = tf.keras.models.Sequential()\n",
        "model.add(base)\n",
        "model.add(tf.keras.layers.Dense(100,'relu'))\n",
        "model.add(tf.keras.layers.Dense(4,'softmax'))\n",
        "\n",
        "reduce_lr = tf.keras.callbacks.ReduceLROnPlateau(monitor='loss',\n",
        "                                         factor=0.1,\n",
        "                                         patience=2,\n",
        "                                         cooldown=2,\n",
        "                                         min_lr=0.00001,\n",
        "                                         verbose=1)\n",
        "\n",
        "    \n",
        "\n",
        "callbacks = [reduce_lr]\n",
        "model.compile(optimizer='adam',loss='categorical_crossentropy',metrics=['accuracy'])\n",
        "model.fit(datagen.flow(train_img,train_label),batch_size=32,epochs=20,callbacks=callbacks,steps_per_epoch=200\n",
        "          )\n",
        "#model.fit_generator(datagen.flow(train_img, train_label, batch_size=32),epochs=20,callbacks=callbacks)"
      ],
      "execution_count": 24,
      "outputs": [
        {
          "output_type": "stream",
          "text": [
            "Epoch 1/20\n",
            "200/200 [==============================] - 73s 365ms/step - loss: 0.9624 - accuracy: 0.6688 - lr: 0.0010\n",
            "Epoch 2/20\n",
            "200/200 [==============================] - 74s 368ms/step - loss: 0.6068 - accuracy: 0.7772 - lr: 0.0010\n",
            "Epoch 3/20\n",
            "200/200 [==============================] - 73s 365ms/step - loss: 0.5224 - accuracy: 0.7997 - lr: 0.0010\n",
            "Epoch 4/20\n",
            "200/200 [==============================] - 74s 371ms/step - loss: 0.4515 - accuracy: 0.8292 - lr: 0.0010\n",
            "Epoch 5/20\n",
            "200/200 [==============================] - 73s 365ms/step - loss: 0.4200 - accuracy: 0.8479 - lr: 0.0010\n",
            "Epoch 6/20\n",
            "200/200 [==============================] - 73s 365ms/step - loss: 0.3855 - accuracy: 0.8572 - lr: 0.0010\n",
            "Epoch 7/20\n",
            "200/200 [==============================] - 73s 366ms/step - loss: 0.3469 - accuracy: 0.8692 - lr: 0.0010\n",
            "Epoch 8/20\n",
            "200/200 [==============================] - 73s 365ms/step - loss: 0.2987 - accuracy: 0.8893 - lr: 0.0010\n",
            "Epoch 9/20\n",
            "200/200 [==============================] - 72s 359ms/step - loss: 0.2955 - accuracy: 0.8934 - lr: 0.0010\n",
            "Epoch 10/20\n",
            "200/200 [==============================] - 72s 359ms/step - loss: 0.2438 - accuracy: 0.9070 - lr: 0.0010\n",
            "Epoch 11/20\n",
            "200/200 [==============================] - 72s 360ms/step - loss: 0.2253 - accuracy: 0.9164 - lr: 0.0010\n",
            "Epoch 12/20\n",
            "200/200 [==============================] - 71s 356ms/step - loss: 0.2219 - accuracy: 0.9178 - lr: 0.0010\n",
            "Epoch 13/20\n",
            "200/200 [==============================] - 72s 359ms/step - loss: 0.1969 - accuracy: 0.9252 - lr: 0.0010\n",
            "Epoch 14/20\n",
            "200/200 [==============================] - 72s 360ms/step - loss: 0.1855 - accuracy: 0.9330 - lr: 0.0010\n",
            "Epoch 15/20\n",
            "200/200 [==============================] - 72s 360ms/step - loss: 0.1671 - accuracy: 0.9410 - lr: 0.0010\n",
            "Epoch 16/20\n",
            "200/200 [==============================] - 71s 354ms/step - loss: 0.1559 - accuracy: 0.9447 - lr: 0.0010\n",
            "Epoch 17/20\n",
            "200/200 [==============================] - 71s 356ms/step - loss: 0.1588 - accuracy: 0.9413 - lr: 0.0010\n",
            "Epoch 18/20\n",
            "200/200 [==============================] - 72s 359ms/step - loss: 0.1411 - accuracy: 0.9461 - lr: 0.0010\n",
            "Epoch 19/20\n",
            "200/200 [==============================] - 72s 358ms/step - loss: 0.1257 - accuracy: 0.9563 - lr: 0.0010\n",
            "Epoch 20/20\n",
            "200/200 [==============================] - 71s 354ms/step - loss: 0.1357 - accuracy: 0.9491 - lr: 0.0010\n"
          ],
          "name": "stdout"
        },
        {
          "output_type": "execute_result",
          "data": {
            "text/plain": [
              "<tensorflow.python.keras.callbacks.History at 0x7fb43e58e668>"
            ]
          },
          "metadata": {
            "tags": []
          },
          "execution_count": 24
        }
      ]
    },
    {
      "cell_type": "code",
      "metadata": {
        "id": "b0lNc3FwZcMX",
        "colab_type": "code",
        "colab": {}
      },
      "source": [
        "y_pred=model.predict(test_img)\n",
        "submission.loc[:,'healthy':'scab']=y_pred"
      ],
      "execution_count": 0,
      "outputs": []
    },
    {
      "cell_type": "code",
      "metadata": {
        "id": "056GKzlBadFR",
        "colab_type": "code",
        "colab": {
          "base_uri": "https://localhost:8080/",
          "height": 119
        },
        "outputId": "4e495291-6d50-4c18-f853-d2df752481e2"
      },
      "source": [
        "print(submission.head())\n",
        "submission.to_csv('submission.csv',index=False)"
      ],
      "execution_count": 28,
      "outputs": [
        {
          "output_type": "stream",
          "text": [
            "  image_id       healthy  multiple_diseases          rust          scab\n",
            "0   Test_0  9.784098e-01       1.656282e-06  2.055527e-02  1.033321e-03\n",
            "1   Test_1  9.996955e-01       5.453593e-07  1.234908e-04  1.804094e-04\n",
            "2   Test_2  6.865301e-07       4.188961e-02  5.610644e-01  3.970453e-01\n",
            "3   Test_3  1.000000e+00       2.558612e-14  6.322251e-09  1.006801e-09\n",
            "4   Test_4  2.001811e-05       5.931570e-11  9.335598e-01  6.642015e-02\n"
          ],
          "name": "stdout"
        }
      ]
    },
    {
      "cell_type": "code",
      "metadata": {
        "id": "g-NgXTQrafQq",
        "colab_type": "code",
        "colab": {
          "base_uri": "https://localhost:8080/",
          "height": 51
        },
        "outputId": "3e57bdcb-0672-4bfe-a2f0-1f21194f5f25"
      },
      "source": [
        "!kaggle competitions submit -c plant-pathology-2020-fgvc7 -f submission.csv -m \"LB Sub\""
      ],
      "execution_count": 40,
      "outputs": [
        {
          "output_type": "stream",
          "text": [
            "100% 165k/165k [00:08<00:00, 20.9kB/s]\n",
            "Successfully submitted to Plant Pathology 2020 - FGVC7"
          ],
          "name": "stdout"
        }
      ]
    },
    {
      "cell_type": "code",
      "metadata": {
        "id": "eRE_cpYRa6fU",
        "colab_type": "code",
        "colab": {}
      },
      "source": [
        ""
      ],
      "execution_count": 0,
      "outputs": []
    }
  ]
}